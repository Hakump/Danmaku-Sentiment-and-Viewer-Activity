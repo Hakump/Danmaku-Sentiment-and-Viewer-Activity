{
 "cells": [
  {
   "cell_type": "code",
   "execution_count": 1,
   "metadata": {},
   "outputs": [],
   "source": [
    "import numpy as np\n",
    "import pandas as pd\n",
    "import torch\n",
    "from transformers import AutoModelForSequenceClassification, AutoTokenizer, pipeline"
   ]
  },
  {
   "cell_type": "code",
   "execution_count": 2,
   "metadata": {},
   "outputs": [],
   "source": [
    "model_name = \"liam168/c2-roberta-base-finetuned-dianping-chinese\"\n",
    "class_num = 2 # positive or negative\n",
    "model = AutoModelForSequenceClassification.from_pretrained(model_name, num_labels=class_num)\n",
    "tokenizer = AutoTokenizer.from_pretrained(model_name)\n",
    "device = torch.device('cuda' if torch.cuda.is_available() else 'cpu')\n"
   ]
  },
  {
   "cell_type": "code",
   "execution_count": 3,
   "metadata": {},
   "outputs": [
    {
     "name": "stdout",
     "output_type": "stream",
     "text": [
      "Fri Dec 10 16:54:48 2021       \n",
      "+-----------------------------------------------------------------------------+\n",
      "| NVIDIA-SMI 460.91.03    Driver Version: 460.91.03    CUDA Version: 11.2     |\n",
      "|-------------------------------+----------------------+----------------------+\n",
      "| GPU  Name        Persistence-M| Bus-Id        Disp.A | Volatile Uncorr. ECC |\n",
      "| Fan  Temp  Perf  Pwr:Usage/Cap|         Memory-Usage | GPU-Util  Compute M. |\n",
      "|                               |                      |               MIG M. |\n",
      "|===============================+======================+======================|\n",
      "|   0  TITAN RTX           Off  | 00000000:3B:00.0 Off |                  N/A |\n",
      "| 41%   29C    P8     7W / 280W |    195MiB / 24220MiB |      0%      Default |\n",
      "|                               |                      |                  N/A |\n",
      "+-------------------------------+----------------------+----------------------+\n",
      "|   1  TITAN RTX           Off  | 00000000:86:00.0 Off |                  N/A |\n",
      "| 41%   29C    P8     6W / 280W |      4MiB / 24220MiB |      0%      Default |\n",
      "|                               |                      |                  N/A |\n",
      "+-------------------------------+----------------------+----------------------+\n",
      "                                                                               \n",
      "+-----------------------------------------------------------------------------+\n",
      "| Processes:                                                                  |\n",
      "|  GPU   GI   CI        PID   Type   Process name                  GPU Memory |\n",
      "|        ID   ID                                                   Usage      |\n",
      "|=============================================================================|\n",
      "|    0   N/A  N/A      1851      G   /usr/lib/xorg/Xorg                105MiB |\n",
      "|    0   N/A  N/A      2019      G   /usr/bin/gnome-shell               84MiB |\n",
      "+-----------------------------------------------------------------------------+\n"
     ]
    }
   ],
   "source": [
    "!nvidia-smi"
   ]
  },
  {
   "cell_type": "code",
   "execution_count": 4,
   "metadata": {},
   "outputs": [
    {
     "data": {
      "text/plain": [
       "device(type='cuda')"
      ]
     },
     "execution_count": 4,
     "metadata": {},
     "output_type": "execute_result"
    }
   ],
   "source": [
    "device"
   ]
  },
  {
   "cell_type": "code",
   "execution_count": 5,
   "metadata": {},
   "outputs": [],
   "source": [
    "df = pd.read_pickle(\"danmukus_all_min.pkl\")"
   ]
  },
  {
   "cell_type": "code",
   "execution_count": 6,
   "metadata": {},
   "outputs": [],
   "source": [
    "filenames = df.filename.unique().astype(int)"
   ]
  },
  {
   "cell_type": "code",
   "execution_count": 7,
   "metadata": {},
   "outputs": [
    {
     "name": "stdout",
     "output_type": "stream",
     "text": [
      "0 10582565\n"
     ]
    }
   ],
   "source": [
    "for _i, filename in enumerate(filenames):\n",
    "  if _i > 0:\n",
    "    break\n",
    "  print(_i, filename)\n",
    "  curr_video = df[df.filename == filename]\n",
    "  "
   ]
  },
  {
   "cell_type": "code",
   "execution_count": 8,
   "metadata": {},
   "outputs": [
    {
     "data": {
      "text/html": [
       "<div>\n",
       "<style scoped>\n",
       "    .dataframe tbody tr th:only-of-type {\n",
       "        vertical-align: middle;\n",
       "    }\n",
       "\n",
       "    .dataframe tbody tr th {\n",
       "        vertical-align: top;\n",
       "    }\n",
       "\n",
       "    .dataframe thead th {\n",
       "        text-align: right;\n",
       "    }\n",
       "</style>\n",
       "<table border=\"1\" class=\"dataframe\">\n",
       "  <thead>\n",
       "    <tr style=\"text-align: right;\">\n",
       "      <th></th>\n",
       "      <th>time</th>\n",
       "      <th>text</th>\n",
       "      <th>filename</th>\n",
       "    </tr>\n",
       "  </thead>\n",
       "  <tbody>\n",
       "    <tr>\n",
       "      <th>0</th>\n",
       "      <td>0</td>\n",
       "      <td>这是送给中国粉丝的歌哦！！！！！！！！</td>\n",
       "      <td>10582565</td>\n",
       "    </tr>\n",
       "    <tr>\n",
       "      <th>1</th>\n",
       "      <td>0</td>\n",
       "      <td>傻孩子们，快跑啊！</td>\n",
       "      <td>10582565</td>\n",
       "    </tr>\n",
       "    <tr>\n",
       "      <th>2</th>\n",
       "      <td>0</td>\n",
       "      <td>最后亿遍</td>\n",
       "      <td>10582565</td>\n",
       "    </tr>\n",
       "    <tr>\n",
       "      <th>3</th>\n",
       "      <td>0</td>\n",
       "      <td>咳咳这里日斜帮你学唱(并不太赞同看个人)</td>\n",
       "      <td>10582565</td>\n",
       "    </tr>\n",
       "    <tr>\n",
       "      <th>4</th>\n",
       "      <td>0</td>\n",
       "      <td>戒毒所见</td>\n",
       "      <td>10582565</td>\n",
       "    </tr>\n",
       "  </tbody>\n",
       "</table>\n",
       "</div>"
      ],
      "text/plain": [
       "  time                  text  filename\n",
       "0    0   这是送给中国粉丝的歌哦！！！！！！！！  10582565\n",
       "1    0             傻孩子们，快跑啊！  10582565\n",
       "2    0                  最后亿遍  10582565\n",
       "3    0  咳咳这里日斜帮你学唱(并不太赞同看个人)  10582565\n",
       "4    0                  戒毒所见  10582565"
      ]
     },
     "execution_count": 8,
     "metadata": {},
     "output_type": "execute_result"
    }
   ],
   "source": [
    "curr_video.head()"
   ]
  },
  {
   "cell_type": "code",
   "execution_count": 9,
   "metadata": {},
   "outputs": [],
   "source": [
    "by_seconds = curr_video.groupby(['time'], as_index = False).agg({'text': ' '.join})"
   ]
  },
  {
   "cell_type": "code",
   "execution_count": 10,
   "metadata": {},
   "outputs": [
    {
     "data": {
      "text/html": [
       "<div>\n",
       "<style scoped>\n",
       "    .dataframe tbody tr th:only-of-type {\n",
       "        vertical-align: middle;\n",
       "    }\n",
       "\n",
       "    .dataframe tbody tr th {\n",
       "        vertical-align: top;\n",
       "    }\n",
       "\n",
       "    .dataframe thead th {\n",
       "        text-align: right;\n",
       "    }\n",
       "</style>\n",
       "<table border=\"1\" class=\"dataframe\">\n",
       "  <thead>\n",
       "    <tr style=\"text-align: right;\">\n",
       "      <th></th>\n",
       "      <th>time</th>\n",
       "      <th>text</th>\n",
       "    </tr>\n",
       "  </thead>\n",
       "  <tbody>\n",
       "    <tr>\n",
       "      <th>0</th>\n",
       "      <td>0</td>\n",
       "      <td>这是送给中国粉丝的歌哦！！！！！！！！ 傻孩子们，快跑啊！ 最后亿遍 咳咳这里日斜帮你学唱(...</td>\n",
       "    </tr>\n",
       "    <tr>\n",
       "      <th>1</th>\n",
       "      <td>1</td>\n",
       "      <td>没事回来中中毒 回来中毒 大家好我叫大力！ 500万助攻 500万助攻！！！ 每天一遍</td>\n",
       "    </tr>\n",
       "    <tr>\n",
       "      <th>2</th>\n",
       "      <td>10</td>\n",
       "      <td>， 我回来了 是你來了 各位又见面了 啊啊啊啊啊啊啊啊啊啊啊啊啊啊啊啊啊啊啊啊啊啊啊啊啊啊啊...</td>\n",
       "    </tr>\n",
       "    <tr>\n",
       "      <th>3</th>\n",
       "      <td>100</td>\n",
       "      <td>❤❤❤❤❤❤❤❤❤❤❤❤❤❤❤❤❤❤❤❤❤❤❤❤❤❤❤❤❤❤❤❤❤❤❤❤❤❤❤❤❤❤❤❤❤❤...</td>\n",
       "    </tr>\n",
       "    <tr>\n",
       "      <th>4</th>\n",
       "      <td>101</td>\n",
       "      <td>欢迎收看随时有人系列视频 西内 颜表立</td>\n",
       "    </tr>\n",
       "    <tr>\n",
       "      <th>...</th>\n",
       "      <td>...</td>\n",
       "      <td>...</td>\n",
       "    </tr>\n",
       "    <tr>\n",
       "      <th>219</th>\n",
       "      <td>95</td>\n",
       "      <td>217好好看 就两年过去了呢 模摸no西子go摸你好谁吧 桃の雫飲み干せば 共同饮尽桃之甘露...</td>\n",
       "    </tr>\n",
       "    <tr>\n",
       "      <th>220</th>\n",
       "      <td>96</td>\n",
       "      <td>恐龙妈妈 小姨妈 …… 217中毒了？ awsl</td>\n",
       "    </tr>\n",
       "    <tr>\n",
       "      <th>221</th>\n",
       "      <td>97</td>\n",
       "      <td>这毒我不戒了。 哥三不火 天理难容 银发娘我抱走了！！！</td>\n",
       "    </tr>\n",
       "    <tr>\n",
       "      <th>222</th>\n",
       "      <td>98</td>\n",
       "      <td>恐龙妈妈</td>\n",
       "    </tr>\n",
       "    <tr>\n",
       "      <th>223</th>\n",
       "      <td>99</td>\n",
       "      <td>我都要    我都要     我都要 魔鬼 扣妈妈吗哈达类德哭啦已，逗哇噶提呀那一栋喔跟得熊...</td>\n",
       "    </tr>\n",
       "  </tbody>\n",
       "</table>\n",
       "<p>224 rows × 2 columns</p>\n",
       "</div>"
      ],
      "text/plain": [
       "    time                                               text\n",
       "0      0  这是送给中国粉丝的歌哦！！！！！！！！ 傻孩子们，快跑啊！ 最后亿遍 咳咳这里日斜帮你学唱(...\n",
       "1      1        没事回来中中毒 回来中毒 大家好我叫大力！ 500万助攻 500万助攻！！！ 每天一遍\n",
       "2     10  ， 我回来了 是你來了 各位又见面了 啊啊啊啊啊啊啊啊啊啊啊啊啊啊啊啊啊啊啊啊啊啊啊啊啊啊啊...\n",
       "3    100  ❤❤❤❤❤❤❤❤❤❤❤❤❤❤❤❤❤❤❤❤❤❤❤❤❤❤❤❤❤❤❤❤❤❤❤❤❤❤❤❤❤❤❤❤❤❤...\n",
       "4    101                                欢迎收看随时有人系列视频 西内 颜表立\n",
       "..   ...                                                ...\n",
       "219   95  217好好看 就两年过去了呢 模摸no西子go摸你好谁吧 桃の雫飲み干せば 共同饮尽桃之甘露...\n",
       "220   96                           恐龙妈妈 小姨妈 …… 217中毒了？ awsl\n",
       "221   97                       这毒我不戒了。 哥三不火 天理难容 银发娘我抱走了！！！\n",
       "222   98                                               恐龙妈妈\n",
       "223   99  我都要    我都要     我都要 魔鬼 扣妈妈吗哈达类德哭啦已，逗哇噶提呀那一栋喔跟得熊...\n",
       "\n",
       "[224 rows x 2 columns]"
      ]
     },
     "execution_count": 10,
     "metadata": {},
     "output_type": "execute_result"
    }
   ],
   "source": [
    "by_seconds"
   ]
  },
  {
   "cell_type": "code",
   "execution_count": 11,
   "metadata": {},
   "outputs": [],
   "source": [
    "our_text = by_seconds.text.values"
   ]
  },
  {
   "cell_type": "code",
   "execution_count": 13,
   "metadata": {},
   "outputs": [],
   "source": [
    "classifier = pipeline('sentiment-analysis', model=model, tokenizer=tokenizer)"
   ]
  },
  {
   "cell_type": "code",
   "execution_count": 16,
   "metadata": {},
   "outputs": [],
   "source": [
    "model_output = []\n",
    "for one_text in our_text:\n",
    "  one_output = classifier(one_text)[0]\n",
    "  one_output = 1 if one_output['label'] == 'positive' else 0\n",
    "  model_output.append(one_output)\n",
    "model_output = np.array(model_output)"
   ]
  },
  {
   "cell_type": "code",
   "execution_count": 14,
   "metadata": {},
   "outputs": [
    {
     "data": {
      "text/plain": [
       "array([0, 0, 0, 1, 1, 0, 1, 1, 1, 0, 0, 1, 0, 1, 1, 1, 1, 1, 0, 0, 1, 1,\n",
       "       0, 1, 0, 1, 1, 1, 1, 1, 1, 0, 0, 1, 1, 1, 1, 1, 1, 1, 1, 1, 1, 1,\n",
       "       1, 1, 1, 1, 1, 1, 0, 1, 1, 1, 1, 1, 1, 1, 1, 1, 1, 1, 0, 0, 1, 1,\n",
       "       0, 1, 0, 1, 1, 1, 0, 1, 1, 0, 1, 1, 1, 0, 0, 1, 1, 1, 1, 1, 0, 1,\n",
       "       1, 0, 1, 1, 1, 1, 1, 0, 1, 1, 1, 1, 0, 1, 1, 1, 1, 1, 1, 1, 1, 1,\n",
       "       1, 1, 1, 1, 1, 1, 1, 1, 1, 1, 1, 1, 1, 1, 1, 1, 1, 1, 1, 0, 0, 0,\n",
       "       0, 1, 1, 1, 1, 1, 1, 1, 1, 1, 0, 1, 1, 0, 0, 0, 1, 1, 1, 1, 1, 1,\n",
       "       1, 0, 1, 0, 0, 1, 0, 1, 0, 1, 0, 1, 1, 1, 0, 1, 1, 0, 1, 0, 0, 1,\n",
       "       0, 1, 1, 1, 1, 1, 1, 1, 0, 1, 0, 1, 1, 1, 1, 0, 1, 1, 1, 1, 1, 1,\n",
       "       1, 0, 1, 1, 1, 1, 1, 1, 1, 1, 0, 0, 1, 1, 1, 1, 1, 1, 1, 1, 1, 1,\n",
       "       0, 0, 0, 0])"
      ]
     },
     "execution_count": 14,
     "metadata": {},
     "output_type": "execute_result"
    }
   ],
   "source": [
    "model_output"
   ]
  },
  {
   "cell_type": "code",
   "execution_count": 17,
   "metadata": {},
   "outputs": [],
   "source": [
    "by_seconds[\"label\"] = model_output"
   ]
  },
  {
   "cell_type": "code",
   "execution_count": 19,
   "metadata": {},
   "outputs": [],
   "source": [
    "by_seconds[\"filename\"] = filename"
   ]
  },
  {
   "cell_type": "code",
   "execution_count": 20,
   "metadata": {},
   "outputs": [
    {
     "data": {
      "text/html": [
       "<div>\n",
       "<style scoped>\n",
       "    .dataframe tbody tr th:only-of-type {\n",
       "        vertical-align: middle;\n",
       "    }\n",
       "\n",
       "    .dataframe tbody tr th {\n",
       "        vertical-align: top;\n",
       "    }\n",
       "\n",
       "    .dataframe thead th {\n",
       "        text-align: right;\n",
       "    }\n",
       "</style>\n",
       "<table border=\"1\" class=\"dataframe\">\n",
       "  <thead>\n",
       "    <tr style=\"text-align: right;\">\n",
       "      <th></th>\n",
       "      <th>time</th>\n",
       "      <th>text</th>\n",
       "      <th>label</th>\n",
       "      <th>filename</th>\n",
       "    </tr>\n",
       "  </thead>\n",
       "  <tbody>\n",
       "    <tr>\n",
       "      <th>0</th>\n",
       "      <td>0</td>\n",
       "      <td>这是送给中国粉丝的歌哦！！！！！！！！ 傻孩子们，快跑啊！ 最后亿遍 咳咳这里日斜帮你学唱(...</td>\n",
       "      <td>0</td>\n",
       "      <td>49432951</td>\n",
       "    </tr>\n",
       "    <tr>\n",
       "      <th>1</th>\n",
       "      <td>1</td>\n",
       "      <td>没事回来中中毒 回来中毒 大家好我叫大力！ 500万助攻 500万助攻！！！ 每天一遍</td>\n",
       "      <td>0</td>\n",
       "      <td>49432951</td>\n",
       "    </tr>\n",
       "    <tr>\n",
       "      <th>2</th>\n",
       "      <td>10</td>\n",
       "      <td>， 我回来了 是你來了 各位又见面了 啊啊啊啊啊啊啊啊啊啊啊啊啊啊啊啊啊啊啊啊啊啊啊啊啊啊啊...</td>\n",
       "      <td>0</td>\n",
       "      <td>49432951</td>\n",
       "    </tr>\n",
       "    <tr>\n",
       "      <th>3</th>\n",
       "      <td>100</td>\n",
       "      <td>❤❤❤❤❤❤❤❤❤❤❤❤❤❤❤❤❤❤❤❤❤❤❤❤❤❤❤❤❤❤❤❤❤❤❤❤❤❤❤❤❤❤❤❤❤❤...</td>\n",
       "      <td>1</td>\n",
       "      <td>49432951</td>\n",
       "    </tr>\n",
       "    <tr>\n",
       "      <th>4</th>\n",
       "      <td>101</td>\n",
       "      <td>欢迎收看随时有人系列视频 西内 颜表立</td>\n",
       "      <td>1</td>\n",
       "      <td>49432951</td>\n",
       "    </tr>\n",
       "    <tr>\n",
       "      <th>...</th>\n",
       "      <td>...</td>\n",
       "      <td>...</td>\n",
       "      <td>...</td>\n",
       "      <td>...</td>\n",
       "    </tr>\n",
       "    <tr>\n",
       "      <th>219</th>\n",
       "      <td>95</td>\n",
       "      <td>217好好看 就两年过去了呢 模摸no西子go摸你好谁吧 桃の雫飲み干せば 共同饮尽桃之甘露...</td>\n",
       "      <td>1</td>\n",
       "      <td>49432951</td>\n",
       "    </tr>\n",
       "    <tr>\n",
       "      <th>220</th>\n",
       "      <td>96</td>\n",
       "      <td>恐龙妈妈 小姨妈 …… 217中毒了？ awsl</td>\n",
       "      <td>0</td>\n",
       "      <td>49432951</td>\n",
       "    </tr>\n",
       "    <tr>\n",
       "      <th>221</th>\n",
       "      <td>97</td>\n",
       "      <td>这毒我不戒了。 哥三不火 天理难容 银发娘我抱走了！！！</td>\n",
       "      <td>0</td>\n",
       "      <td>49432951</td>\n",
       "    </tr>\n",
       "    <tr>\n",
       "      <th>222</th>\n",
       "      <td>98</td>\n",
       "      <td>恐龙妈妈</td>\n",
       "      <td>0</td>\n",
       "      <td>49432951</td>\n",
       "    </tr>\n",
       "    <tr>\n",
       "      <th>223</th>\n",
       "      <td>99</td>\n",
       "      <td>我都要    我都要     我都要 魔鬼 扣妈妈吗哈达类德哭啦已，逗哇噶提呀那一栋喔跟得熊...</td>\n",
       "      <td>0</td>\n",
       "      <td>49432951</td>\n",
       "    </tr>\n",
       "  </tbody>\n",
       "</table>\n",
       "<p>224 rows × 4 columns</p>\n",
       "</div>"
      ],
      "text/plain": [
       "    time                                               text  label  filename\n",
       "0      0  这是送给中国粉丝的歌哦！！！！！！！！ 傻孩子们，快跑啊！ 最后亿遍 咳咳这里日斜帮你学唱(...      0  49432951\n",
       "1      1        没事回来中中毒 回来中毒 大家好我叫大力！ 500万助攻 500万助攻！！！ 每天一遍      0  49432951\n",
       "2     10  ， 我回来了 是你來了 各位又见面了 啊啊啊啊啊啊啊啊啊啊啊啊啊啊啊啊啊啊啊啊啊啊啊啊啊啊啊...      0  49432951\n",
       "3    100  ❤❤❤❤❤❤❤❤❤❤❤❤❤❤❤❤❤❤❤❤❤❤❤❤❤❤❤❤❤❤❤❤❤❤❤❤❤❤❤❤❤❤❤❤❤❤...      1  49432951\n",
       "4    101                                欢迎收看随时有人系列视频 西内 颜表立      1  49432951\n",
       "..   ...                                                ...    ...       ...\n",
       "219   95  217好好看 就两年过去了呢 模摸no西子go摸你好谁吧 桃の雫飲み干せば 共同饮尽桃之甘露...      1  49432951\n",
       "220   96                           恐龙妈妈 小姨妈 …… 217中毒了？ awsl      0  49432951\n",
       "221   97                       这毒我不戒了。 哥三不火 天理难容 银发娘我抱走了！！！      0  49432951\n",
       "222   98                                               恐龙妈妈      0  49432951\n",
       "223   99  我都要    我都要     我都要 魔鬼 扣妈妈吗哈达类德哭啦已，逗哇噶提呀那一栋喔跟得熊...      0  49432951\n",
       "\n",
       "[224 rows x 4 columns]"
      ]
     },
     "execution_count": 20,
     "metadata": {},
     "output_type": "execute_result"
    }
   ],
   "source": [
    "by_seconds"
   ]
  },
  {
   "cell_type": "markdown",
   "metadata": {},
   "source": [
    "## pipeline"
   ]
  },
  {
   "cell_type": "code",
   "execution_count": 22,
   "metadata": {},
   "outputs": [
    {
     "name": "stdout",
     "output_type": "stream",
     "text": [
      "0 10582565\n",
      "  time                                               text  filename  label\n",
      "0    0  这是送给中国粉丝的歌哦！！！！！！！！ 傻孩子们，快跑啊！ 最后亿遍 咳咳这里日斜帮你学唱(...  10582565      0\n",
      "1    1        没事回来中中毒 回来中毒 大家好我叫大力！ 500万助攻 500万助攻！！！ 每天一遍  10582565      0\n",
      "2   10  ， 我回来了 是你來了 各位又见面了 啊啊啊啊啊啊啊啊啊啊啊啊啊啊啊啊啊啊啊啊啊啊啊啊啊啊啊...  10582565      0\n",
      "3  100  ❤❤❤❤❤❤❤❤❤❤❤❤❤❤❤❤❤❤❤❤❤❤❤❤❤❤❤❤❤❤❤❤❤❤❤❤❤❤❤❤❤❤❤❤❤❤...  10582565      1\n",
      "4  101                                欢迎收看随时有人系列视频 西内 颜表立  10582565      1\n",
      "1 49432951\n",
      "  time                  text  filename  label\n",
      "0  101     饭圈女孩怎么了，前面自己要走bb啥  49432951      0\n",
      "1  103                这就是双标吧  49432951      1\n",
      "2  105  说实话我不是粉也觉得b站很多up主做过了  49432951      0\n",
      "3  106    欺凌者都是抱着开玩笑的心态欺负别人啊  49432951      0\n",
      "4  109                    嗯！  49432951      1\n",
      "2 58999505\n",
      "  time                                               text  filename  label\n",
      "0    0                                               jiji  58999505      1\n",
      "1   10                                            哈哈哈哈哈挠腿  58999505      1\n",
      "2  100  哈哈哈哈哈哈哈哈哈哈哈哈哈哈 哈哈哈！ 哈哈哈哈哈哈哈哈哈哈哈哈哈哈哈哈哈哈哈哈哈哈哈哈哈哈...  58999505      1\n",
      "3  101  哈哈哈哈哈哈哈哈哈 wtf哈哈哈哈哈 哈哈哈哈哈哈哈哈哈哈哈哈哈 糟糕！是心肌梗的感觉！ 哈...  58999505      0\n",
      "4  102  绝配哈哈哈 哈哈哈哈哈 哈哈哈哈哈哈哈哈哈哈哈哈哈哈 哈哈哈哈哈哈哈哈 尴尬死了 xswl ...  58999505      0\n"
     ]
    }
   ],
   "source": [
    "from os import error\n",
    "import numpy as np\n",
    "import pandas as pd\n",
    "import torch\n",
    "from transformers import AutoModelForSequenceClassification, AutoTokenizer, pipeline\n",
    "\n",
    "model_name = \"liam168/c2-roberta-base-finetuned-dianping-chinese\"\n",
    "class_num = 2 # positive or negative\n",
    "model = AutoModelForSequenceClassification.from_pretrained(model_name, num_labels=class_num)\n",
    "tokenizer = AutoTokenizer.from_pretrained(model_name)\n",
    "device = torch.device('cuda' if torch.cuda.is_available() else 'cpu')\n",
    "\n",
    "df = pd.read_pickle(\"danmukus_all_min.pkl\")\n",
    "filenames = df.filename.unique().astype(int)\n",
    "\n",
    "classifier = pipeline('sentiment-analysis', model=model, tokenizer=tokenizer)\n",
    "max_text_len = 512 - 2\n",
    "for _i, filename in enumerate(filenames):\n",
    "  # if _i > 2:\n",
    "  #   break\n",
    "  print(_i, filename)\n",
    "  try:\n",
    "    curr_video = df[df.filename == filename]\n",
    "    by_seconds = curr_video.groupby(['time'], as_index = False).agg({'text': ' '.join})\n",
    "    our_text = by_seconds.text.values\n",
    "    by_seconds[\"filename\"] = filename\n",
    "\n",
    "    model_output = []\n",
    "    for one_text in our_text:\n",
    "      if len(one_text) > max_text_len:\n",
    "        one_text = one_text[:max_text_len]\n",
    "      one_output = classifier(one_text)[0]\n",
    "      one_output = 1 if one_output['label'] == 'positive' else 0\n",
    "      model_output.append(one_output)\n",
    "    model_output = np.array(model_output)\n",
    "    by_seconds[\"label\"] = model_output\n",
    "\n",
    "    by_seconds.to_pickle('output/'+str(filename)+'.pkl')\n",
    "  except Exception as e:\n",
    "    print(e)\n",
    "\n",
    "  # print(by_seconds.head())\n"
   ]
  },
  {
   "cell_type": "code",
   "execution_count": null,
   "metadata": {},
   "outputs": [],
   "source": []
  }
 ],
 "metadata": {
  "interpreter": {
   "hash": "e180a05df05fba6f180fcd0d7e4ed4afa742ed08f6cdf62d7fb7e17889f06e82"
  },
  "kernelspec": {
   "display_name": "Python 3.8.12 64-bit ('exercism': conda)",
   "language": "python",
   "name": "python3"
  },
  "language_info": {
   "codemirror_mode": {
    "name": "ipython",
    "version": 3
   },
   "file_extension": ".py",
   "mimetype": "text/x-python",
   "name": "python",
   "nbconvert_exporter": "python",
   "pygments_lexer": "ipython3",
   "version": "3.8.12"
  },
  "orig_nbformat": 4
 },
 "nbformat": 4,
 "nbformat_minor": 2
}
