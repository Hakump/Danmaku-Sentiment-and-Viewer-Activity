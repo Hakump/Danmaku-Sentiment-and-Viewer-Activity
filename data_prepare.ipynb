{
  "cells": [
    {
      "cell_type": "code",
      "execution_count": null,
      "id": "442db042",
      "metadata": {
        "id": "442db042"
      },
      "outputs": [],
      "source": [
        "!pip install jieba"
      ]
    },
    {
      "cell_type": "code",
      "execution_count": null,
      "id": "25efce84",
      "metadata": {
        "id": "25efce84"
      },
      "outputs": [],
      "source": [
        "!pip install transformers"
      ]
    },
    {
      "cell_type": "code",
      "execution_count": null,
      "id": "628a8ecb",
      "metadata": {
        "colab": {
          "base_uri": "https://localhost:8080/",
          "height": 236
        },
        "id": "628a8ecb",
        "outputId": "8fb0c84c-75cf-4c66-ba81-76f1bf042549"
      },
      "outputs": [
        {
          "output_type": "error",
          "ename": "FileNotFoundError",
          "evalue": "ignored",
          "traceback": [
            "\u001b[0;31m---------------------------------------------------------------------------\u001b[0m",
            "\u001b[0;31mFileNotFoundError\u001b[0m                         Traceback (most recent call last)",
            "\u001b[0;32m<ipython-input-1-445f8b49eb40>\u001b[0m in \u001b[0;36m<module>\u001b[0;34m()\u001b[0m\n\u001b[1;32m     41\u001b[0m \u001b[0mfile_dict\u001b[0m \u001b[0;34m=\u001b[0m \u001b[0;34m{\u001b[0m\u001b[0;34m}\u001b[0m\u001b[0;34m\u001b[0m\u001b[0;34m\u001b[0m\u001b[0m\n\u001b[1;32m     42\u001b[0m \u001b[0;32mfor\u001b[0m \u001b[0md\u001b[0m \u001b[0;32min\u001b[0m \u001b[0mrootdir\u001b[0m\u001b[0;34m:\u001b[0m\u001b[0;34m\u001b[0m\u001b[0;34m\u001b[0m\u001b[0m\n\u001b[0;32m---> 43\u001b[0;31m     \u001b[0;32mfor\u001b[0m \u001b[0mfilename\u001b[0m \u001b[0;32min\u001b[0m \u001b[0mos\u001b[0m\u001b[0;34m.\u001b[0m\u001b[0mlistdir\u001b[0m\u001b[0;34m(\u001b[0m\u001b[0md\u001b[0m\u001b[0;34m)\u001b[0m\u001b[0;34m:\u001b[0m\u001b[0;34m\u001b[0m\u001b[0;34m\u001b[0m\u001b[0m\n\u001b[0m\u001b[1;32m     44\u001b[0m         \u001b[0mpath\u001b[0m \u001b[0;34m=\u001b[0m \u001b[0mos\u001b[0m\u001b[0;34m.\u001b[0m\u001b[0mpath\u001b[0m\u001b[0;34m.\u001b[0m\u001b[0mjoin\u001b[0m\u001b[0;34m(\u001b[0m\u001b[0md\u001b[0m\u001b[0;34m,\u001b[0m \u001b[0mfilename\u001b[0m\u001b[0;34m)\u001b[0m\u001b[0;34m\u001b[0m\u001b[0;34m\u001b[0m\u001b[0m\n\u001b[1;32m     45\u001b[0m         \u001b[0mdf\u001b[0m \u001b[0;34m=\u001b[0m \u001b[0mdata_prepare\u001b[0m\u001b[0;34m(\u001b[0m\u001b[0mpath\u001b[0m\u001b[0;34m)\u001b[0m\u001b[0;34m\u001b[0m\u001b[0;34m\u001b[0m\u001b[0m\n",
            "\u001b[0;31mFileNotFoundError\u001b[0m: [Errno 2] No such file or directory: './data/comments/culture_art/'"
          ]
        }
      ],
      "source": [
        "import json\n",
        "import re\n",
        "import os\n",
        "import pandas as pd\n",
        "# import jieba\n",
        "##\n",
        "\n",
        "# def load_stopword():\n",
        "#     f_stop = open('Chinese-stop-words.txt', encoding='utf-8')  # Chinese-stop-words\n",
        "#     sw = [line.strip() for line in f_stop]  \n",
        "#     f_stop.close()\n",
        "#     return sw\n",
        "\n",
        "# stopwords = load_stopword()\n",
        "subdir = ['culture_art/', 'entertainment/', 'games/' , 'life/', 'movie_tv/' , 'science_education/']\n",
        "rootdir = ['./data/comments/'+s for s in subdir]\n",
        "\n",
        "def data_prepare(path):\n",
        "    with open(path, 'r') as json_file:\n",
        "        data = json.load(json_file)\n",
        "        for key, value in data.items():\n",
        "            temp = \" \".join(value)\n",
        "    #         for w in stopwords:\n",
        "    #             if temp and w in temp:\n",
        "    #                 print(temp)\n",
        "    #                 temp = re.sub(w, \"\", temp)\n",
        "            temp = re.sub(\"[\\s+\\.\\!\\/_,$%^*(+\\\"\\']+|[+——！，。？、~@#￥%……&*（）]\", \"\", temp)\n",
        "            # tokenizer\n",
        "#                 if not temp:\n",
        "#                     temp = jieba.cut(temp.strip())\n",
        "\n",
        "            data[key] = temp\n",
        "        data = {k:v for k,v in data.items() if v}\n",
        "\n",
        "        df = pd.DataFrame(data, index=[0])\n",
        "        labels = [1] * df.shape[0]\n",
        "        df['label'] = labels\n",
        "        \n",
        "    return df\n",
        "\n",
        "file_dict = {}\n",
        "for d in rootdir:\n",
        "    for filename in os.listdir(d):\n",
        "        path = os.path.join(d, filename)\n",
        "        df = data_prepare(path)\n",
        "        file_dict[path] = df\n",
        "        "
      ]
    },
    {
      "cell_type": "code",
      "execution_count": null,
      "id": "abcc08a6",
      "metadata": {
        "id": "abcc08a6"
      },
      "outputs": [],
      "source": [
        "data_prepare('./data/comments/life/127863.json')"
      ]
    },
    {
      "cell_type": "code",
      "execution_count": null,
      "id": "9bd12d21",
      "metadata": {
        "id": "9bd12d21"
      },
      "outputs": [],
      "source": [
        ""
      ]
    }
  ],
  "metadata": {
    "kernelspec": {
      "display_name": "Python 3 (ipykernel)",
      "language": "python",
      "name": "python3"
    },
    "language_info": {
      "codemirror_mode": {
        "name": "ipython",
        "version": 3
      },
      "file_extension": ".py",
      "mimetype": "text/x-python",
      "name": "python",
      "nbconvert_exporter": "python",
      "pygments_lexer": "ipython3",
      "version": "3.7.11"
    },
    "colab": {
      "name": "data_prepare.ipynb",
      "provenance": []
    }
  },
  "nbformat": 4,
  "nbformat_minor": 5
}